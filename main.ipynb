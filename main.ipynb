{
 "cells": [
  {
   "cell_type": "code",
   "execution_count": null,
   "metadata": {
    "tags": []
   },
   "outputs": [],
   "source": [
    "# Define prompts and types\n",
    "prompts = [\n",
    "    'What is the capital of the United States of America?',\n",
    "    'What is the capital of India?',\n",
    "    'What is the capital of China?',\n",
    "    'What is the next number in the sequence: 1, 1, 2, 3, 5, 8, ...? If all cats have tails, and Fluffy is a cat, does Fluffy have a tail?',\n",
    "    'If you eat too much junk food, what will happen to your health? How does smoking affect the risk of lung cancer?',\n",
    "    'In the same way that pen is related to paper, what is fork related to? If tree is related to forest, what is brick related to?',\n",
    "    'Every time John eats peanuts, he gets a rash. Does John have a peanut allergy? Every time Sarah studies for a test, she gets an A. Will Sarah get an A on the next test if she studies?',\n",
    "    'All dogs have fur. Max is a dog. Does Max have fur? If it is raining outside, and Mary does not like to get wet, will Mary take an umbrella?',\n",
    "    'If I had studied harder, would I have passed the exam? What would have happened if Thomas Edison had not invented the light bulb?',\n",
    "    'The center of Tropical Storm Arlene, at 02/1800 UTC, is near 26.7N 86.2W. This position is about 425 km/230 nm to the west of Fort Myers in Florida, and it is about 550 km/297 nm to the NNW of the western tip of Cuba. The tropical storm is moving southward, or 175 degrees, 4 knots. The estimated minimum central pressure is 1002 mb. The maximum sustained wind speeds are 35 knots with gusts to 45 knots. The sea heights that are close to the tropical storm are ranging from 6 feet to a maximum of 10 feet.  Precipitation: scattered to numerous moderate is within 180 nm of the center in the NE quadrant. Isolated moderate is from 25N to 27N between 80W and 84W, including parts of south Florida.  Broad surface low pressure extends from the area of the tropical storm, through the Yucatan Channel, into the NW part of the Caribbean Sea.   Where and when will the storm make landfall?'\n",
    "]\n",
    "\n",
    "types = [\n",
    "    'Knowledge Retrieval',\n",
    "    'Knowledge Retrieval',\n",
    "    'Knowledge Retrieval',\n",
    "    'Logical Reasoning',\n",
    "    'Cause and Effect',\n",
    "    'Analogical Reasoning',\n",
    "    'Inductive Reasoning',\n",
    "    'Deductive Reasoning',\n",
    "    'Counterfactual Reasoning',\n",
    "    'In Context'\n",
    "]"
   ]
  },
  {
   "cell_type": "code",
   "execution_count": null,
   "metadata": {
    "tags": []
   },
   "outputs": [],
   "source": [
    "import time\n",
    "# import matplotlib.pyplot as plt\n",
    "from langchain.llms import HuggingFacePipeline\n",
    "from transformers import AutoTokenizer, AutoModelForSeq2SeqLM, pipeline\n",
    "\n",
    "import os\n",
    "# Disable parallelism and avoid the warning message\n",
    "os.environ[\"TOKENIZERS_PARALLELISM\"] = \"false\"\n",
    "\n",
    "\n",
    "def benchmarking(model_ids):\n",
    "    prompt_types = []\n",
    "    model_load_times = []\n",
    "    model_tokenizer_load_times = []\n",
    "    model_pipeline_load_times = []\n",
    "    generation_times = {}\n",
    "    res = {}\n",
    "    for model_id in model_ids:\n",
    "        # Load tokenizer\n",
    "        tokenizer_start_time = time.time()\n",
    "        tokenizer = AutoTokenizer.from_pretrained(model_id)\n",
    "        tokenizer_end_time = time.time()\n",
    "\n",
    "        # Load model\n",
    "        model_start_time = time.time()\n",
    "        model = AutoModelForSeq2SeqLM.from_pretrained(model_id)\n",
    "        model_end_time = time.time()\n",
    "\n",
    "        # Load pipeline\n",
    "        pipe_start_time = time.time()\n",
    "        pipe = pipeline(\"text2text-generation\", model=model, tokenizer=tokenizer, max_length=512)\n",
    "        local_llm = HuggingFacePipeline(pipeline=pipe)\n",
    "        pipe_end_time = time.time()\n",
    "\n",
    "    \n",
    "        model_load_times.append(model_end_time - model_start_time)\n",
    "        model_tokenizer_load_times.append(tokenizer_end_time - tokenizer_start_time)\n",
    "        model_pipeline_load_times.append(pipe_end_time - pipe_start_time)\n",
    "        \n",
    "\n",
    "        # Loop thru prompt list, measure the time to the generate answers, print prompt, answer, time, type\n",
    "        generation_times[model_id] = []\n",
    "        res[model_id] = []\n",
    "        for i, prompt in enumerate(prompts):\n",
    "            start_time = time.time()\n",
    "            answer = local_llm(prompt)\n",
    "            end_time = time.time()\n",
    "            generation_times[model_id].append(end_time - start_time)\n",
    "            res[model_id].append({prompt: answer, time: end_time - start_time})\n",
    "            \n"
   ]
  },
  {
   "cell_type": "code",
   "execution_count": null,
   "metadata": {},
   "outputs": [],
   "source": [
    "model_ids = ['google/flan-t5-small', 'google/flan-t5-base', 'google/flan-t5-large', 'google/flan-t5-xl', 'google/flan-t5-xxl']\n",
    "\n",
    "benchmarking(model_ids)"
   ]
  }
 ],
 "metadata": {
  "kernelspec": {
   "display_name": "Python 3 (ipykernel)",
   "language": "python",
   "name": "python3"
  },
  "language_info": {
   "codemirror_mode": {
    "name": "ipython",
    "version": 3
   },
   "file_extension": ".py",
   "mimetype": "text/x-python",
   "name": "python",
   "nbconvert_exporter": "python",
   "pygments_lexer": "ipython3",
   "version": "3.11.2"
  }
 },
 "nbformat": 4,
 "nbformat_minor": 4
}
